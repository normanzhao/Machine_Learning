{
 "cells": [
  {
   "cell_type": "code",
   "execution_count": 2,
   "metadata": {},
   "outputs": [],
   "source": [
    "import pandas as pd\n",
    "import numpy as np\n",
    "import matplotlib.pyplot as plt\n",
    "%matplotlib inline"
   ]
  },
  {
   "cell_type": "code",
   "execution_count": 3,
   "metadata": {},
   "outputs": [
    {
     "name": "stdout",
     "output_type": "stream",
     "text": [
      "   movieId                               title  \\\n",
      "0        1                    Toy Story (1995)   \n",
      "1        2                      Jumanji (1995)   \n",
      "2        3             Grumpier Old Men (1995)   \n",
      "3        4            Waiting to Exhale (1995)   \n",
      "4        5  Father of the Bride Part II (1995)   \n",
      "\n",
      "                                        genres  \n",
      "0  Adventure|Animation|Children|Comedy|Fantasy  \n",
      "1                   Adventure|Children|Fantasy  \n",
      "2                               Comedy|Romance  \n",
      "3                         Comedy|Drama|Romance  \n",
      "4                                       Comedy  \n"
     ]
    }
   ],
   "source": [
    "movies = pd.read_csv(\"movies.csv\")\n",
    "print(movies.head(5))"
   ]
  },
  {
   "cell_type": "code",
   "execution_count": 103,
   "metadata": {},
   "outputs": [],
   "source": [
    "movie_ids = np.array(movies[\"movieId\"])\n",
    "titles = movies[\"title\"].tolist()"
   ]
  },
  {
   "cell_type": "code",
   "execution_count": 104,
   "metadata": {},
   "outputs": [],
   "source": [
    "def get_movie_title(movie_id):\n",
    "    I = np.where(movie_ids == movie_id)[0]\n",
    "    if len(I) == 0:\n",
    "        return 'unknown'\n",
    "    else:\n",
    "        return titles[I[0]]"
   ]
  },
  {
   "cell_type": "code",
   "execution_count": 9,
   "metadata": {},
   "outputs": [
    {
     "name": "stdout",
     "output_type": "stream",
     "text": [
      "   userId  movieId  rating   timestamp\n",
      "0       1       31     2.5  1260759144\n",
      "1       1     1029     3.0  1260759179\n",
      "2       1     1061     3.0  1260759182\n",
      "3       1     1129     2.0  1260759185\n",
      "4       1     1172     4.0  1260759205\n"
     ]
    }
   ],
   "source": [
    "ratings = pd.read_csv(\"ratings.csv\")\n",
    "print(ratings.head(5))"
   ]
  },
  {
   "cell_type": "code",
   "execution_count": 11,
   "metadata": {},
   "outputs": [],
   "source": [
    "user_ids = np.array(ratings[\"userId\"])\n",
    "user_movies = np.array(ratings[\"movieId\"])\n",
    "user_ratings = np.array(ratings[\"rating\"])"
   ]
  },
  {
   "cell_type": "code",
   "execution_count": 12,
   "metadata": {},
   "outputs": [],
   "source": [
    "M = ratings.pivot_table(index=['userId'], columns=['movieId'], values='rating')\n",
    "movie_col = M.columns.tolist()\n",
    "user_row = M.index.tolist()"
   ]
  },
  {
   "cell_type": "code",
   "execution_count": 13,
   "metadata": {},
   "outputs": [
    {
     "name": "stdout",
     "output_type": "stream",
     "text": [
      "movieId  1       2       3       4       5       6       7       8       \\\n",
      "userId                                                                    \n",
      "1           NaN     NaN     NaN     NaN     NaN     NaN     NaN     NaN   \n",
      "2           NaN     NaN     NaN     NaN     NaN     NaN     NaN     NaN   \n",
      "3           NaN     NaN     NaN     NaN     NaN     NaN     NaN     NaN   \n",
      "4           NaN     NaN     NaN     NaN     NaN     NaN     NaN     NaN   \n",
      "5           NaN     NaN     4.0     NaN     NaN     NaN     NaN     NaN   \n",
      "\n",
      "movieId  9       10       ...    161084  161155  161594  161830  161918  \\\n",
      "userId                    ...                                             \n",
      "1           NaN     NaN   ...       NaN     NaN     NaN     NaN     NaN   \n",
      "2           NaN     4.0   ...       NaN     NaN     NaN     NaN     NaN   \n",
      "3           NaN     NaN   ...       NaN     NaN     NaN     NaN     NaN   \n",
      "4           NaN     4.0   ...       NaN     NaN     NaN     NaN     NaN   \n",
      "5           NaN     NaN   ...       NaN     NaN     NaN     NaN     NaN   \n",
      "\n",
      "movieId  161944  162376  162542  162672  163949  \n",
      "userId                                           \n",
      "1           NaN     NaN     NaN     NaN     NaN  \n",
      "2           NaN     NaN     NaN     NaN     NaN  \n",
      "3           NaN     NaN     NaN     NaN     NaN  \n",
      "4           NaN     NaN     NaN     NaN     NaN  \n",
      "5           NaN     NaN     NaN     NaN     NaN  \n",
      "\n",
      "[5 rows x 9066 columns]\n"
     ]
    }
   ],
   "source": [
    "print(M.head(5))"
   ]
  },
  {
   "cell_type": "code",
   "execution_count": 14,
   "metadata": {},
   "outputs": [
    {
     "name": "stdout",
     "output_type": "stream",
     "text": [
      "movieId  1       2       3       4       5       6       7       8       \\\n",
      "userId                                                                    \n",
      "1           0.0     0.0     0.0     0.0     0.0     0.0     0.0     0.0   \n",
      "2           0.0     0.0     0.0     0.0     0.0     0.0     0.0     0.0   \n",
      "3           0.0     0.0     0.0     0.0     0.0     0.0     0.0     0.0   \n",
      "4           0.0     0.0     0.0     0.0     0.0     0.0     0.0     0.0   \n",
      "5           0.0     0.0     4.0     0.0     0.0     0.0     0.0     0.0   \n",
      "\n",
      "movieId  9       10       ...    161084  161155  161594  161830  161918  \\\n",
      "userId                    ...                                             \n",
      "1           0.0     0.0   ...       0.0     0.0     0.0     0.0     0.0   \n",
      "2           0.0     4.0   ...       0.0     0.0     0.0     0.0     0.0   \n",
      "3           0.0     0.0   ...       0.0     0.0     0.0     0.0     0.0   \n",
      "4           0.0     4.0   ...       0.0     0.0     0.0     0.0     0.0   \n",
      "5           0.0     0.0   ...       0.0     0.0     0.0     0.0     0.0   \n",
      "\n",
      "movieId  161944  162376  162542  162672  163949  \n",
      "userId                                           \n",
      "1           0.0     0.0     0.0     0.0     0.0  \n",
      "2           0.0     0.0     0.0     0.0     0.0  \n",
      "3           0.0     0.0     0.0     0.0     0.0  \n",
      "4           0.0     0.0     0.0     0.0     0.0  \n",
      "5           0.0     0.0     0.0     0.0     0.0  \n",
      "\n",
      "[5 rows x 9066 columns]\n"
     ]
    }
   ],
   "source": [
    "Mfill = M.fillna(0)\n",
    "print(Mfill.head(5))"
   ]
  },
  {
   "cell_type": "code",
   "execution_count": 21,
   "metadata": {},
   "outputs": [],
   "source": [
    "Mfill = np.array(Mfill)"
   ]
  },
  {
   "cell_type": "code",
   "execution_count": 17,
   "metadata": {},
   "outputs": [
    {
     "name": "stdout",
     "output_type": "stream",
     "text": [
      "Users: 671\n",
      "Movies: 9066\n"
     ]
    }
   ],
   "source": [
    "print(\"Users: %i\\nMovies: %i\"%(Mfill.shape[0],Mfill.shape[1]))"
   ]
  },
  {
   "cell_type": "code",
   "execution_count": 26,
   "metadata": {},
   "outputs": [],
   "source": [
    "Mmean = np.mean(Mfill,0)\n",
    "Mstd = np.std(Mfill,0)\n",
    "X = (Mfill - Mmean[None,:]) / Mstd[None,:]"
   ]
  },
  {
   "cell_type": "code",
   "execution_count": 39,
   "metadata": {},
   "outputs": [],
   "source": [
    "U,S,Vt = np.linalg.svd(X,full_matrices=False)"
   ]
  },
  {
   "cell_type": "code",
   "execution_count": 30,
   "metadata": {},
   "outputs": [
    {
     "data": {
      "text/plain": [
       "Text(0,0.5,'POV')"
      ]
     },
     "execution_count": 30,
     "metadata": {},
     "output_type": "execute_result"
    },
    {
     "data": {
      "image/png": "[encoded data removed]",
      "text/plain": [
       "<matplotlib.figure.Figure at 0x830b4c3ac8>"
      ]
     },
     "metadata": {},
     "output_type": "display_data"
    }
   ],
   "source": [
    "Mvar = Mstd ** 2\n",
    "POV = np.cumsum(Mvar) / np.sum(Mvar)\n",
    "plt.plot(POV)\n",
    "plt.xlabel(\"Amount of PCs\")\n",
    "plt.ylabel(\"POV\")"
   ]
  },
  {
   "cell_type": "code",
   "execution_count": 113,
   "metadata": {},
   "outputs": [],
   "source": [
    "r = 50\n",
    "Xest = Vt[:r,]"
   ]
  },
  {
   "cell_type": "code",
   "execution_count": 114,
   "metadata": {},
   "outputs": [],
   "source": [
    "Mest = (Xest - Mmean[None,:]) / Mstd[None,:]"
   ]
  },
  {
   "cell_type": "code",
   "execution_count": 115,
   "metadata": {},
   "outputs": [
    {
     "name": "stdout",
     "output_type": "stream",
     "text": [
      "Movie: Training Day (2001)\tPredicted rating: -2.81\tActual rating: -0.04\n",
      "Movie: Deterrence (1999)\tPredicted rating: -1.43\tActual rating: -0.04\n",
      "Movie: unknown\tPredicted rating: -1.43\tActual rating: -0.04\n",
      "Movie: unknown\tPredicted rating: -1.16\tActual rating: -0.05\n",
      "Movie: Strawberry and Chocolate (Fresa y chocolate) (1993)\tPredicted rating: -0.97\tActual rating: -0.97\n",
      "Movie: unknown\tPredicted rating: -0.96\tActual rating: -0.04\n",
      "Movie: Legends of the Fall (1994)\tPredicted rating: -0.93\tActual rating: 1.33\n",
      "Movie: unknown\tPredicted rating: -0.91\tActual rating: -0.91\n",
      "Movie: unknown\tPredicted rating: -0.88\tActual rating: -0.88\n",
      "Movie: Eat Drink Man Woman (Yin shi nan nu) (1994)\tPredicted rating: -0.84\tActual rating: -0.84\n",
      "Movie: Boxing Helena (1993)\tPredicted rating: -0.79\tActual rating: -0.79\n",
      "Movie: unknown\tPredicted rating: -0.77\tActual rating: -0.05\n",
      "Movie: Governess, The (1998)\tPredicted rating: -0.77\tActual rating: -0.76\n",
      "Movie: I'll Do Anything (1994)\tPredicted rating: -0.73\tActual rating: -0.73\n",
      "Movie: Wild Strawberries (Smultronstället) (1957)\tPredicted rating: -0.73\tActual rating: -0.04\n",
      "Movie: My Best Friend's Wedding (1997)\tPredicted rating: -0.73\tActual rating: -0.04\n",
      "Movie: unknown\tPredicted rating: -0.73\tActual rating: -0.04\n",
      "Movie: Whole Nine Yards, The (2000)\tPredicted rating: -0.73\tActual rating: -0.04\n",
      "Movie: unknown\tPredicted rating: -0.73\tActual rating: -0.04\n",
      "Movie: unknown\tPredicted rating: -0.73\tActual rating: -0.73\n"
     ]
    }
   ],
   "source": [
    "ind = 10   # Row index\n",
    "ntop = 20  # Print the ntop movie recommendations\n",
    "actual = X[ind]\n",
    "pred = Mest[ind]\n",
    "top_rated = np.argsort(pred)\n",
    "for i in range(20):\n",
    "    j = top_rated[i]\n",
    "    print(\"Movie: %s\\tPredicted rating: %0.2f\\tActual rating: %0.2f\"%(get_movie_title(j), pred[j], actual[j])) "
   ]
  },
  {
   "cell_type": "code",
   "execution_count": 120,
   "metadata": {},
   "outputs": [
    {
     "name": "stdout",
     "output_type": "stream",
     "text": [
      "Love in the Afternoon (1957)\n",
      "unknown\n",
      "American Movie (1999)\n",
      "unknown\n"
     ]
    }
   ],
   "source": [
    "npc = 4\n",
    "ntop = 5\n",
    "\n",
    "for row in Vt[-4:]:\n",
    "    print(get_movie_title(np.argsort(abs(row))[0]))"
   ]
  }
 ],
 "metadata": {
  "kernelspec": {
   "display_name": "Python 3",
   "language": "python",
   "name": "python3"
  },
  "language_info": {
   "codemirror_mode": {
    "name": "ipython",
    "version": 3
   },
   "file_extension": ".py",
   "mimetype": "text/x-python",
   "name": "python",
   "nbconvert_exporter": "python",
   "pygments_lexer": "ipython3",
   "version": "3.6.3"
  }
 },
 "nbformat": 4,
 "nbformat_minor": 2
}

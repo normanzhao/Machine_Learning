{
 "cells": [
  {
   "cell_type": "code",
   "execution_count": 1,
   "metadata": {},
   "outputs": [],
   "source": [
    "import numpy as np\n",
    "import matplotlib.pyplot as plt\n",
    "%matplotlib inline\n",
    "from sklearn import linear_model, preprocessing\n",
    "from sklearn.datasets import fetch_mldata"
   ]
  },
  {
   "cell_type": "code",
   "execution_count": 2,
   "metadata": {
    "collapsed": true
   },
   "outputs": [],
   "source": [
    "mnist = fetch_mldata(\"MNIST original\")"
   ]
  },
  {
   "cell_type": "code",
   "execution_count": 3,
   "metadata": {},
   "outputs": [
    {
     "name": "stderr",
     "output_type": "stream",
     "text": [
      "C:\\Users\\nadjatee\\Anaconda2\\lib\\site-packages\\sklearn\\utils\\validation.py:429: DataConversionWarning: Data with input dtype uint8 was converted to float64 by the scale function.\n",
      "  warnings.warn(msg, _DataConversionWarning)\n"
     ]
    }
   ],
   "source": [
    "Xdig = mnist.data\n",
    "ydig = mnist.target\n",
    "Xdigs = preprocessing.scale(Xdig)"
   ]
  },
  {
   "cell_type": "code",
   "execution_count": 4,
   "metadata": {},
   "outputs": [],
   "source": [
    "def plt_digit(x):\n",
    "    matrix = x.reshape((28,28))\n",
    "    plt.imshow(matrix,  cmap='Greys_r')\n",
    "    plt.xticks([])\n",
    "    plt.yticks([])"
   ]
  },
  {
   "cell_type": "code",
   "execution_count": 5,
   "metadata": {},
   "outputs": [
    {
     "data": {
      "image/png": "[encoded data removed]",
      "text/plain": [
       "<matplotlib.figure.Figure at 0x3763550>"
      ]
     },
     "metadata": {},
     "output_type": "display_data"
    }
   ],
   "source": [
    "Iperm = np.random.permutation(Xdig.shape[0])\n",
    "# Plot the images using the subplot command\n",
    "for i in range(0,4):\n",
    "    ind = Iperm[i]\n",
    "    plt.subplot(1,4,i+1)\n",
    "    plt.title(ydig[ind])\n",
    "    plt_digit(Xdig[ind,:])"
   ]
  },
  {
   "cell_type": "code",
   "execution_count": 6,
   "metadata": {},
   "outputs": [],
   "source": [
    "class ImgException(Exception):\n",
    "    def __init__(self, msg='No msg'):\n",
    "        self.msg = msg"
   ]
  },
  {
   "cell_type": "code",
   "execution_count": 7,
   "metadata": {
    "collapsed": true
   },
   "outputs": [],
   "source": [
    "import matplotlib.image as mpimg\n",
    "import skimage.io\n",
    "from skimage.filters import threshold_otsu\n",
    "from skimage.segmentation import clear_border\n",
    "from skimage.measure import label, regionprops\n",
    "from skimage.morphology import closing, square\n",
    "from skimage.color import label2rgb\n",
    "from skimage.transform import resize\n",
    "import matplotlib.patches as mpatches\n",
    "from skimage import data\n",
    "import skimage"
   ]
  },
  {
   "cell_type": "code",
   "execution_count": 8,
   "metadata": {
    "collapsed": true
   },
   "outputs": [],
   "source": [
    "import os.path\n",
    "\n",
    "def leading_zero(x):\n",
    "    return \"0%i\"%(x) if x>=10 else \"00%i\"%(x)\n",
    "\n",
    "def load_img(char_ind, samp_ind):\n",
    "    char_ind = leading_zero(char_ind)\n",
    "    samp_ind = leading_zero(samp_ind)\n",
    "    fname = \"Img/Sample%s/img%s-%s.png\"%(char_ind,char_ind,samp_ind)\n",
    "    if not os.path.isfile(fname):\n",
    "         raise ImgException(\"%s not found\"%(fname))\n",
    "    img = skimage.io.imread(fname)\n",
    "    return img"
   ]
  },
  {
   "cell_type": "code",
   "execution_count": 9,
   "metadata": {},
   "outputs": [
    {
     "name": "stdout",
     "output_type": "stream",
     "text": [
      "Char = 47 samp=6\n",
      "Img/Sample047/img047-070.png not found\n"
     ]
    },
    {
     "data": {
      "image/png": "[encoded data removed]",
      "text/plain": [
       "<matplotlib.figure.Figure at 0x9461978>"
      ]
     },
     "metadata": {},
     "output_type": "display_data"
    }
   ],
   "source": [
    "char_ind = 47\n",
    "samp_inds = [6,70]\n",
    "for samp_ind in samp_inds:\n",
    "    try:\n",
    "        img = load_img(char_ind=char_ind, samp_ind=samp_ind)\n",
    "        print(\"Char = %d samp=%d\" % (char_ind, samp_ind))\n",
    "        plt.imshow(img)\n",
    "    except ImgException as e:\n",
    "        print(e.msg)"
   ]
  },
  {
   "cell_type": "code",
   "execution_count": 10,
   "metadata": {},
   "outputs": [],
   "source": [
    "def mnist_resize(img):\n",
    "    \"\"\"\n",
    "    Extracts a character from the image, and places in a 28x28 image to match the MNIST format.\n",
    "    \n",
    "    Returns:\n",
    "    img1:  MNIST formatted 28 x 28 size image with the character from img\n",
    "    box:   A bounding box indicating the locations where the character was found in img.    \n",
    "    \"\"\"\n",
    "    # Image sizes (fixed for now).  To match the MNIST data, the image \n",
    "    # will be first resized to 20 x 20.  Then, the image will be placed in center of 28 x 28 box\n",
    "    # offet by 4 on each side.\n",
    "    nx_img = 20   \n",
    "    ny_img = 20\n",
    "    nx_box = 28   \n",
    "    ny_box = 28\n",
    "    offx = 4\n",
    "    offy = 4\n",
    "    \n",
    "    # TODO:  Convert the image to gray scale using the skimage.color.rgb2gray method.\n",
    "    bw = skimage.color.rgb2gray(img)\n",
    "    \n",
    "    # Threshold the image using OTSU threshold\n",
    "    thresh = threshold_otsu(bw)\n",
    "    bw = closing(bw < thresh, square(3)).astype(int)\n",
    "    \n",
    "    # Get the regions in the image.\n",
    "    # This creates a list of regions in the image where the digit possibly is.\n",
    "    regions = regionprops(bw)\n",
    "\n",
    "    # TODO:  Find region with the largest area.  You can get the region area from region.area.\n",
    "    area_max = 0\n",
    "    region_max = None\n",
    "    for region in regions:\n",
    "        if region.area > area_max:\n",
    "            region_max = region\n",
    "            area_max = region.area\n",
    "    \n",
    "    # Raise an ImgException if no region with area >= 100 was found\n",
    "    if (area_max < 100):\n",
    "        raise ImgException(\"No image found\")    \n",
    "                \n",
    "    # Get the bounding box of the character from region_max.bbox\n",
    "    minr, minc, maxr, maxc = region_max.bbox\n",
    "    box = [minr,minc,maxr,maxc]\n",
    "    \n",
    "    # TODO:  Crop the image in bw to the bounding box\n",
    "    bw_crop = bw[minr:maxc,minc:maxc]\n",
    "    # TODO:  Resize the cropped image to a 20x20 using the resize command.\n",
    "    # You will need to use the mode = 'constant' option\n",
    "    bw_resize = resize(bw_crop,(28,28),mode='constant')\n",
    "    return bw_resize,box\n",
    "    \n",
    "    # TODO:  Threshold back to a 0-1 image by comparing the pixels to their mean value\n",
    "    img1 = bw_resize/np.mean(bw_resize)\n",
    "    # TODO:  Place extracted 20 x 20 image in larger image 28 x 28\n",
    "    img1 = resize(img1,(28,28),mode='constant')\n",
    "    return img1, box"
   ]
  },
  {
   "cell_type": "code",
   "execution_count": 11,
   "metadata": {},
   "outputs": [
    {
     "data": {
      "image/png": "[encoded data removed]",
      "text/plain": [
       "<matplotlib.figure.Figure at 0xa1f12e8>"
      ]
     },
     "metadata": {},
     "output_type": "display_data"
    }
   ],
   "source": [
    "# Load an image\n",
    "img = load_img(13,9)\n",
    "\n",
    "try:\n",
    "    img1, box = mnist_resize(img)\n",
    "    # TODO:  Plot the original image, img, along with a red box around the captured character.\n",
    "    # Use the mpatches.Rectangle and ax.add_patch methods to construct the rectangle.\n",
    "    # TODO:  Plot the resized 28 x 28 image, img1.  You can use the plt_digit(img1) command \n",
    "    ax = plt.subplot(1,2,1)\n",
    "    ax.imshow(img)\n",
    "    ax.add_patch(mpatches.Rectangle((box[1], box[0]), box[3]-box[1],box[2]-box[0], fill=False, color='red'))\n",
    "    image = plt.subplot(1,2,2)\n",
    "    plt_digit(img1)\n",
    "except ImgException as e:\n",
    "    print(e.msg)"
   ]
  },
  {
   "cell_type": "code",
   "execution_count": 14,
   "metadata": {},
   "outputs": [
    {
     "name": "stdout",
     "output_type": "stream",
     "text": [
      "[[  2.32830644e-10   2.32830644e-10   2.32830644e-10   2.32830644e-10\n",
      "    2.32830644e-10   2.32830644e-10   2.32830644e-10   2.32830644e-10\n",
      "    2.32830644e-10   2.32830644e-10   2.32830644e-10   2.32830644e-10\n",
      "    2.32830644e-10   2.32830644e-10   2.32830644e-10   2.32830644e-10\n",
      "    2.32830644e-10   2.32830644e-10   2.32830644e-10   2.32830644e-10\n",
      "    2.32830644e-10   6.98491931e-10   6.98491931e-10   6.98491931e-10\n",
      "    6.98491931e-10   6.98491931e-10   4.18293318e-10   2.32830644e-10]\n",
      " [  2.32830644e-10   2.32830644e-10   2.32830644e-10   2.32830644e-10\n",
      "    2.32830644e-10   2.32830644e-10   2.32830644e-10   2.32830644e-10\n",
      "    2.32830644e-10   2.32830644e-10   2.32830644e-10   2.32830644e-10\n",
      "    2.32830644e-10   2.32830644e-10   2.32830644e-10   2.32830644e-10\n",
      "    2.32830644e-10   2.32830644e-10   2.32830644e-10   3.07669065e-10\n",
      "    6.98491931e-10   6.98491931e-10   6.98491931e-10   6.98491931e-10\n",
      "    6.98491931e-10   6.98491931e-10   6.98491931e-10   6.98491931e-10]\n",
      " [  2.32830644e-10   2.32830644e-10   2.32830644e-10   2.32830644e-10\n",
      "    2.32830644e-10   2.32830644e-10   2.32830644e-10   2.32830644e-10\n",
      "    2.32830644e-10   2.32830644e-10   2.32830644e-10   2.32830644e-10\n",
      "    2.32830644e-10   2.32830644e-10   2.32830644e-10   2.32830644e-10\n",
      "    2.32830644e-10   2.32830644e-10   2.32830644e-10   6.98491931e-10\n",
      "    6.98491931e-10   6.98491931e-10   6.98491931e-10   6.98491931e-10\n",
      "    6.98491931e-10   6.98491931e-10   6.98491931e-10   6.98491931e-10]\n",
      " [  2.32830644e-10   2.32830644e-10   2.32830644e-10   2.32830644e-10\n",
      "    2.32830644e-10   2.32830644e-10   2.32830644e-10   2.32830644e-10\n",
      "    2.32830644e-10   2.32830644e-10   2.32830644e-10   2.32830644e-10\n",
      "    2.32830644e-10   2.32830644e-10   2.32830644e-10   2.32830644e-10\n",
      "    2.32830644e-10   2.32830644e-10   6.98491931e-10   6.98491931e-10\n",
      "    6.98491931e-10   6.98491931e-10   6.98491931e-10   6.98491931e-10\n",
      "    6.98491931e-10   6.98491931e-10   6.98491931e-10   6.98491931e-10]\n",
      " [  2.32830644e-10   2.32830644e-10   2.32830644e-10   2.32830644e-10\n",
      "    2.32830644e-10   2.32830644e-10   2.32830644e-10   2.32830644e-10\n",
      "    2.32830644e-10   2.32830644e-10   2.32830644e-10   2.32830644e-10\n",
      "    2.32830644e-10   2.32830644e-10   2.32830644e-10   2.32830644e-10\n",
      "    2.32830644e-10   6.98491931e-10   6.98491931e-10   6.98491931e-10\n",
      "    6.98491931e-10   6.98491931e-10   6.98491931e-10   6.98491931e-10\n",
      "    6.98491931e-10   6.98491931e-10   6.98491931e-10   2.32830644e-10]\n",
      " [  2.32830644e-10   2.32830644e-10   2.32830644e-10   2.32830644e-10\n",
      "    2.32830644e-10   2.32830644e-10   2.32830644e-10   2.32830644e-10\n",
      "    2.32830644e-10   2.32830644e-10   2.32830644e-10   2.32830644e-10\n",
      "    2.32830644e-10   2.32830644e-10   2.32830644e-10   2.32830644e-10\n",
      "    5.67673183e-10   6.98491931e-10   6.98491931e-10   6.98491931e-10\n",
      "    6.98491931e-10   6.98491931e-10   6.98491931e-10   6.98491931e-10\n",
      "    6.98491931e-10   6.98491931e-10   6.98491931e-10   2.32830644e-10]\n",
      " [  2.32830644e-10   2.32830644e-10   2.32830644e-10   2.32830644e-10\n",
      "    2.32830644e-10   2.32830644e-10   2.32830644e-10   2.32830644e-10\n",
      "    2.32830644e-10   2.32830644e-10   2.32830644e-10   2.32830644e-10\n",
      "    2.32830644e-10   2.32830644e-10   2.32830644e-10   2.32830644e-10\n",
      "    6.98491931e-10   6.98491931e-10   6.98491931e-10   6.98491931e-10\n",
      "    6.98491931e-10   6.98491931e-10   6.98491931e-10   6.98491931e-10\n",
      "    6.98491931e-10   6.98491931e-10   2.32830644e-10   2.32830644e-10]\n",
      " [  2.32830644e-10   2.32830644e-10   2.32830644e-10   2.32830644e-10\n",
      "    2.32830644e-10   2.32830644e-10   2.32830644e-10   2.32830644e-10\n",
      "    2.32830644e-10   2.32830644e-10   2.32830644e-10   2.32830644e-10\n",
      "    2.32830644e-10   2.32830644e-10   2.32830644e-10   5.07238188e-10\n",
      "    6.98491931e-10   6.98491931e-10   6.98491931e-10   6.98491931e-10\n",
      "    6.98491931e-10   6.98491931e-10   6.98491931e-10   6.98491931e-10\n",
      "    6.98491931e-10   2.32830644e-10   2.32830644e-10   2.32830644e-10]\n",
      " [  2.32830644e-10   2.32830644e-10   2.32830644e-10   2.32830644e-10\n",
      "    2.32830644e-10   2.32830644e-10   2.32830644e-10   2.32830644e-10\n",
      "    2.32830644e-10   2.32830644e-10   2.32830644e-10   2.32830644e-10\n",
      "    2.32830644e-10   2.32830644e-10   2.32830644e-10   6.98491931e-10\n",
      "    6.98491931e-10   6.98491931e-10   6.98491931e-10   6.98491931e-10\n",
      "    6.98491931e-10   6.98491931e-10   6.98491931e-10   6.98491931e-10\n",
      "    2.32830644e-10   2.32830644e-10   2.32830644e-10   2.32830644e-10]\n",
      " [  2.32830644e-10   2.32830644e-10   2.32830644e-10   2.32830644e-10\n",
      "    2.32830644e-10   2.32830644e-10   2.32830644e-10   2.32830644e-10\n",
      "    2.32830644e-10   2.32830644e-10   2.32830644e-10   2.32830644e-10\n",
      "    2.32830644e-10   2.32830644e-10   2.32830644e-10   6.98491931e-10\n",
      "    6.98491931e-10   6.98491931e-10   6.98491931e-10   6.98491931e-10\n",
      "    6.98491931e-10   6.98491931e-10   6.98491931e-10   5.46290777e-10\n",
      "    2.32830644e-10   2.32830644e-10   2.32830644e-10   2.32830644e-10]\n",
      " [  2.32830644e-10   2.32830644e-10   2.32830644e-10   2.32830644e-10\n",
      "    2.32830644e-10   2.32830644e-10   2.32830644e-10   2.32830644e-10\n",
      "    2.32830644e-10   2.32830644e-10   2.32830644e-10   2.32830644e-10\n",
      "    2.32830644e-10   2.32830644e-10   6.98491931e-10   6.98491931e-10\n",
      "    6.98491931e-10   6.98491931e-10   6.98491931e-10   6.98491931e-10\n",
      "    6.98491931e-10   6.98491931e-10   6.98491931e-10   2.32830644e-10\n",
      "    2.32830644e-10   2.32830644e-10   2.32830644e-10   2.32830644e-10]\n",
      " [  2.32830644e-10   2.32830644e-10   2.32830644e-10   2.32830644e-10\n",
      "    2.32830644e-10   2.32830644e-10   2.32830644e-10   2.32830644e-10\n",
      "    2.32830644e-10   2.32830644e-10   2.32830644e-10   2.32830644e-10\n",
      "    2.32830644e-10   6.98491931e-10   6.98491931e-10   6.98491931e-10\n",
      "    6.98491931e-10   6.98491931e-10   6.98491931e-10   6.98491931e-10\n",
      "    6.98491931e-10   6.98491931e-10   2.32830644e-10   2.32830644e-10\n",
      "    2.32830644e-10   2.32830644e-10   2.32830644e-10   2.32830644e-10]\n",
      " [  2.32830644e-10   2.32830644e-10   2.32830644e-10   2.32830644e-10\n",
      "    2.32830644e-10   2.32830644e-10   2.32830644e-10   2.32830644e-10\n",
      "    2.32830644e-10   2.32830644e-10   2.32830644e-10   2.36839845e-10\n",
      "    6.98491931e-10   6.98491931e-10   6.98491931e-10   6.98491931e-10\n",
      "    6.98491931e-10   6.98491931e-10   6.98491931e-10   6.98491931e-10\n",
      "    6.98491931e-10   6.98491931e-10   2.32830644e-10   2.32830644e-10\n",
      "    2.32830644e-10   2.32830644e-10   2.32830644e-10   2.32830644e-10]\n",
      " [  2.32830644e-10   2.32830644e-10   2.32830644e-10   2.32830644e-10\n",
      "    2.32830644e-10   2.32830644e-10   2.32830644e-10   2.32830644e-10\n",
      "    2.32830644e-10   2.32830644e-10   6.98491931e-10   6.98491931e-10\n",
      "    6.98491931e-10   6.98491931e-10   6.98491931e-10   6.98491931e-10\n",
      "    6.98491931e-10   6.98491931e-10   6.98491931e-10   6.98491931e-10\n",
      "    6.98491931e-10   6.98491931e-10   2.32830644e-10   2.32830644e-10\n",
      "    2.32830644e-10   2.32830644e-10   2.32830644e-10   2.32830644e-10]\n",
      " [  2.32830644e-10   2.32830644e-10   2.32830644e-10   2.32830644e-10\n",
      "    2.32830644e-10   2.32830644e-10   2.32830644e-10   2.32830644e-10\n",
      "    5.60842692e-10   6.98491931e-10   6.98491931e-10   6.98491931e-10\n",
      "    6.98491931e-10   6.98491931e-10   6.98491931e-10   6.98491931e-10\n",
      "    6.98491931e-10   6.98491931e-10   6.98491931e-10   6.98491931e-10\n",
      "    6.98491931e-10   6.98491931e-10   2.32830644e-10   2.32830644e-10\n",
      "    2.32830644e-10   2.32830644e-10   2.32830644e-10   2.32830644e-10]\n",
      " [  2.32830644e-10   2.32830644e-10   2.32830644e-10   2.32830644e-10\n",
      "    2.32830644e-10   2.32830644e-10   2.32830644e-10   6.98491931e-10\n",
      "    6.98491931e-10   6.98491931e-10   6.98491931e-10   6.98491931e-10\n",
      "    6.98491931e-10   6.98491931e-10   6.98491931e-10   6.98491931e-10\n",
      "    6.98491931e-10   6.98491931e-10   6.98491931e-10   6.98491931e-10\n",
      "    6.98491931e-10   6.98491931e-10   2.32830644e-10   2.32830644e-10\n",
      "    2.32830644e-10   2.32830644e-10   2.32830644e-10   2.32830644e-10]\n",
      " [  2.32830644e-10   2.32830644e-10   2.32830644e-10   2.32830644e-10\n",
      "    2.32830644e-10   5.71533895e-10   6.98491931e-10   6.98491931e-10\n",
      "    6.98491931e-10   6.98491931e-10   6.98491931e-10   6.98491931e-10\n",
      "    6.98491931e-10   6.98491931e-10   6.98491931e-10   6.98491931e-10\n",
      "    6.98491931e-10   6.98491931e-10   6.98491931e-10   6.98491931e-10\n",
      "    6.98491931e-10   2.57776784e-10   2.32830644e-10   2.32830644e-10\n",
      "    2.32830644e-10   2.32830644e-10   2.32830644e-10   2.32830644e-10]\n",
      " [  2.32830644e-10   2.32830644e-10   2.32830644e-10   2.32830644e-10\n",
      "    2.32830644e-10   6.98491931e-10   6.98491931e-10   6.98491931e-10\n",
      "    6.98491931e-10   6.98491931e-10   6.98491931e-10   6.98491931e-10\n",
      "    6.98491931e-10   6.98491931e-10   6.98491931e-10   6.98491931e-10\n",
      "    6.98491931e-10   6.98491931e-10   6.98491931e-10   6.98491931e-10\n",
      "    6.98491931e-10   2.32830644e-10   2.32830644e-10   2.32830644e-10\n",
      "    2.32830644e-10   2.32830644e-10   2.32830644e-10   2.32830644e-10]\n",
      " [  2.32830644e-10   2.32830644e-10   2.32830644e-10   2.32830644e-10\n",
      "    2.32830644e-10   6.98491931e-10   6.98491931e-10   6.98491931e-10\n",
      "    6.98491931e-10   6.98491931e-10   6.98491931e-10   6.98491931e-10\n",
      "    5.92619323e-10   6.98491931e-10   6.98491931e-10   6.98491931e-10\n",
      "    6.98491931e-10   6.98491931e-10   6.98491931e-10   6.98491931e-10\n",
      "    6.98491931e-10   2.32830644e-10   2.32830644e-10   2.32830644e-10\n",
      "    2.32830644e-10   2.32830644e-10   2.32830644e-10   2.32830644e-10]\n",
      " [  2.32830644e-10   2.32830644e-10   2.32830644e-10   2.32830644e-10\n",
      "    2.32830644e-10   2.32830644e-10   2.51985716e-10   6.98491931e-10\n",
      "    6.98491931e-10   6.98491931e-10   6.30929468e-10   2.32830644e-10\n",
      "    2.32830644e-10   6.98491931e-10   6.98491931e-10   6.98491931e-10\n",
      "    6.98491931e-10   6.98491931e-10   6.98491931e-10   6.98491931e-10\n",
      "    6.98491931e-10   6.98491931e-10   6.98491931e-10   6.98491931e-10\n",
      "    2.32830644e-10   2.32830644e-10   2.32830644e-10   2.32830644e-10]\n",
      " [  2.32830644e-10   2.32830644e-10   2.32830644e-10   2.32830644e-10\n",
      "    2.32830644e-10   2.32830644e-10   2.32830644e-10   2.32830644e-10\n",
      "    2.32830644e-10   2.32830644e-10   2.32830644e-10   2.32830644e-10\n",
      "    2.32830644e-10   6.98491931e-10   6.98491931e-10   6.98491931e-10\n",
      "    6.98491931e-10   6.98491931e-10   6.98491931e-10   6.98491931e-10\n",
      "    6.98491931e-10   6.98491931e-10   6.98491931e-10   6.98491931e-10\n",
      "    6.98491931e-10   6.98491931e-10   2.32830644e-10   2.32830644e-10]\n",
      " [  2.32830644e-10   2.32830644e-10   2.32830644e-10   2.32830644e-10\n",
      "    2.32830644e-10   2.32830644e-10   2.32830644e-10   2.32830644e-10\n",
      "    2.32830644e-10   6.98491931e-10   6.98491931e-10   6.98491931e-10\n",
      "    6.98491931e-10   6.98491931e-10   6.98491931e-10   6.98491931e-10\n",
      "    6.98491931e-10   6.98491931e-10   6.98491931e-10   6.98491931e-10\n",
      "    6.98491931e-10   6.98491931e-10   6.98491931e-10   6.98491931e-10\n",
      "    6.98491931e-10   6.98491931e-10   2.32830644e-10   2.32830644e-10]\n",
      " [  2.32830644e-10   2.32830644e-10   2.32830644e-10   2.32830644e-10\n",
      "    6.98491931e-10   6.98491931e-10   6.98491931e-10   6.98491931e-10\n",
      "    6.98491931e-10   6.98491931e-10   6.98491931e-10   6.98491931e-10\n",
      "    6.98491931e-10   6.98491931e-10   6.98491931e-10   6.98491931e-10\n",
      "    6.98491931e-10   6.98491931e-10   6.98491931e-10   6.98491931e-10\n",
      "    6.98491931e-10   6.98491931e-10   6.98491931e-10   6.98491931e-10\n",
      "    6.98491931e-10   6.98491931e-10   2.32830644e-10   2.32830644e-10]\n",
      " [  2.32830644e-10   6.98491931e-10   6.98491931e-10   6.98491931e-10\n",
      "    6.98491931e-10   6.98491931e-10   6.98491931e-10   6.98491931e-10\n",
      "    6.98491931e-10   6.98491931e-10   6.98491931e-10   6.98491931e-10\n",
      "    6.98491931e-10   6.98491931e-10   6.98491931e-10   6.98491931e-10\n",
      "    6.98491931e-10   6.98491931e-10   6.98491931e-10   6.98491931e-10\n",
      "    6.98491931e-10   6.98491931e-10   6.98491931e-10   2.57776784e-10\n",
      "    2.32830644e-10   2.32830644e-10   2.32830644e-10   2.32830644e-10]\n",
      " [  6.98491931e-10   6.98491931e-10   6.98491931e-10   6.98491931e-10\n",
      "    6.98491931e-10   6.98491931e-10   6.98491931e-10   6.98491931e-10\n",
      "    6.98491931e-10   6.98491931e-10   6.98491931e-10   6.98491931e-10\n",
      "    6.98491931e-10   6.98491931e-10   6.98491931e-10   6.98491931e-10\n",
      "    6.98491931e-10   6.98491931e-10   6.98491931e-10   6.98491931e-10\n",
      "    6.98491931e-10   2.32830644e-10   2.32830644e-10   2.32830644e-10\n",
      "    2.32830644e-10   2.32830644e-10   2.32830644e-10   2.32830644e-10]\n",
      " [  6.98491931e-10   6.98491931e-10   6.98491931e-10   6.98491931e-10\n",
      "    6.98491931e-10   6.98491931e-10   6.98491931e-10   6.98491931e-10\n",
      "    6.98491931e-10   6.98491931e-10   6.98491931e-10   6.98491931e-10\n",
      "    6.98491931e-10   6.98491931e-10   6.98491931e-10   6.98491931e-10\n",
      "    6.98491931e-10   6.98491931e-10   6.98491931e-10   6.98491931e-10\n",
      "    4.40715147e-10   2.32830644e-10   2.32830644e-10   2.32830644e-10\n",
      "    2.32830644e-10   2.32830644e-10   2.32830644e-10   2.32830644e-10]\n",
      " [  2.32830644e-10   6.98491931e-10   6.98491931e-10   6.98491931e-10\n",
      "    6.98491931e-10   6.98491931e-10   6.98491931e-10   6.98491931e-10\n",
      "    6.98491931e-10   6.98491931e-10   6.98491931e-10   6.98491931e-10\n",
      "    6.98491931e-10   6.98491931e-10   6.98491931e-10   6.98491931e-10\n",
      "    6.98491931e-10   6.98491931e-10   6.98491931e-10   6.98491931e-10\n",
      "    2.32830644e-10   2.32830644e-10   2.32830644e-10   2.32830644e-10\n",
      "    2.32830644e-10   2.32830644e-10   2.32830644e-10   2.32830644e-10]\n",
      " [  2.32830644e-10   2.32830644e-10   3.09005465e-10   6.98491931e-10\n",
      "    6.98491931e-10   6.98491931e-10   6.98491931e-10   6.98491931e-10\n",
      "    6.98491931e-10   6.98491931e-10   6.98491931e-10   6.98491931e-10\n",
      "    6.98491931e-10   6.98491931e-10   6.98491931e-10   6.98491931e-10\n",
      "    6.98491931e-10   6.98491931e-10   6.98491931e-10   6.98491931e-10\n",
      "    2.32830644e-10   2.32830644e-10   2.32830644e-10   2.32830644e-10\n",
      "    2.32830644e-10   2.32830644e-10   2.32830644e-10   2.32830644e-10]]\n"
     ]
    }
   ],
   "source": [
    "print img1"
   ]
  },
  {
   "cell_type": "code",
   "execution_count": 15,
   "metadata": {},
   "outputs": [
    {
     "name": "stdout",
     "output_type": "stream",
     "text": [
      "images captured = 50\n",
      "images captured = 100\n",
      "images captured = 150\n",
      "images captured = 200\n",
      "images captured = 250\n",
      "images captured = 300\n",
      "images captured = 350\n",
      "images captured = 400\n",
      "images captured = 450\n",
      "images captured = 500\n",
      "images captured = 550\n",
      "images captured = 600\n",
      "images captured = 650\n",
      "images captured = 700\n",
      "images captured = 750\n",
      "images captured = 800\n",
      "images captured = 850\n",
      "images captured = 900\n",
      "images captured = 950\n",
      "images captured = 1000\n"
     ]
    }
   ],
   "source": [
    "# Dimensions\n",
    "nlet = 1000\n",
    "nrow = 28\n",
    "ncol = 28\n",
    "npix = nrow*ncol\n",
    "Xlet = np.zeros((nlet, npix))\n",
    "\n",
    "i = 0\n",
    "while i < nlet:\n",
    "    # TODO:  Generate a random character and sample  \n",
    "    numbers = range(37,45) + range(46,51) + range(52,63)\n",
    "    char_ind = np.random.choice(numbers)\n",
    "    samp_ind = np.random.randint(0,50)\n",
    "  \n",
    "    try:\n",
    "        # TODO:  Load the image with load_img function\n",
    "        img = load_img(char_ind,samp_ind)\n",
    "        \n",
    "        # TODO:  Reize the image with mnist_resize function\n",
    "        img1, box = mnist_resize(img)\n",
    "        \n",
    "        # TODO:  Store the image in a row of Xlet[i,:] and increment i\n",
    "        Xlet[i,:] = img1.reshape((784))\n",
    "        i += 1\n",
    "        \n",
    "        # Print progress\n",
    "        if (i % 50 == 0):\n",
    "            print ('images captured = {0:d}'.format(i))\n",
    "    except ImgException:\n",
    "        # Skip if image loading or resizing failed\n",
    "        pass"
   ]
  },
  {
   "cell_type": "code",
   "execution_count": null,
   "metadata": {
    "collapsed": true
   },
   "outputs": [],
   "source": [
    "import pickle\n",
    "\n",
    "with open( \"Xlet.p\", \"wb\" ) as fp:\n",
    "    pickle.dump( Xlet, fp)"
   ]
  },
  {
   "cell_type": "code",
   "execution_count": null,
   "metadata": {},
   "outputs": [],
   "source": [
    "with open( \"Xlet.p\", \"rb\" ) as fp:\n",
    "    Xlet = pickle.load(fp)"
   ]
  },
  {
   "cell_type": "code",
   "execution_count": 16,
   "metadata": {},
   "outputs": [
    {
     "name": "stderr",
     "output_type": "stream",
     "text": [
      "C:\\Users\\nadjatee\\Anaconda2\\lib\\site-packages\\numpy\\core\\numeric.py:301: FutureWarning: in the future, full((1000, 1), 10) will return an array of dtype('int32')\n",
      "  format(shape, fill_value, array(fill_value).dtype), FutureWarning)\n"
     ]
    }
   ],
   "source": [
    "dig_perm = np.random.permutation(Xdig.shape[0])\n",
    "Xlets = 2*Xlet-1\n",
    "X = np.vstack((Xdig[dig_perm[0:5000]],Xlet))\n",
    "X = X/255.0*2 - 1\n",
    "y = np.append(ydig[dig_perm[0:5000]],np.full((1000,1),10))"
   ]
  },
  {
   "cell_type": "code",
   "execution_count": 17,
   "metadata": {},
   "outputs": [],
   "source": [
    "from sklearn import svm\n",
    "svc = svm.SVC(kernel=\"rbf\", C=2.8, gamma=.0073)"
   ]
  },
  {
   "cell_type": "code",
   "execution_count": 18,
   "metadata": {},
   "outputs": [],
   "source": [
    "Iperm = np.random.permutation(X.shape[0])\n",
    "ntr = 5000\n",
    "nts = 1000\n",
    "Xtr = X[Iperm[:ntr],:]\n",
    "ytr = y[Iperm[:ntr]]\n",
    "Xts = X[Iperm[ntr:ntr+nts],:]\n",
    "yts = y[Iperm[ntr:ntr+nts]]"
   ]
  },
  {
   "cell_type": "code",
   "execution_count": 19,
   "metadata": {},
   "outputs": [
    {
     "data": {
      "text/plain": [
       "SVC(C=2.8, cache_size=200, class_weight=None, coef0=0.0,\n",
       "  decision_function_shape=None, degree=3, gamma=0.0073, kernel='rbf',\n",
       "  max_iter=-1, probability=False, random_state=None, shrinking=True,\n",
       "  tol=0.001, verbose=False)"
      ]
     },
     "execution_count": 19,
     "metadata": {},
     "output_type": "execute_result"
    }
   ],
   "source": [
    "svc.fit(Xtr,ytr)"
   ]
  },
  {
   "cell_type": "code",
   "execution_count": 21,
   "metadata": {},
   "outputs": [
    {
     "name": "stdout",
     "output_type": "stream",
     "text": [
      "[ 0.]\n"
     ]
    },
    {
     "name": "stderr",
     "output_type": "stream",
     "text": [
      "C:\\Users\\nadjatee\\Anaconda2\\lib\\site-packages\\sklearn\\utils\\validation.py:395: DeprecationWarning: Passing 1d arrays as data is deprecated in 0.17 and will raise ValueError in 0.19. Reshape your data either using X.reshape(-1, 1) if your data has a single feature or X.reshape(1, -1) if it contains a single sample.\n",
      "  DeprecationWarning)\n"
     ]
    },
    {
     "data": {
      "image/png": "[encoded data removed]",
      "text/plain": [
       "<matplotlib.figure.Figure at 0x10514048>"
      ]
     },
     "metadata": {},
     "output_type": "display_data"
    }
   ],
   "source": [
    "print svc.predict(Xts[333])\n",
    "plt_digit(Xts[333])"
   ]
  },
  {
   "cell_type": "code",
   "execution_count": null,
   "metadata": {},
   "outputs": [],
   "source": [
    "yhat = svc.predict(Xts)\n",
    "acc = np.mean(yhat == yts)\n",
    "print('Accuracy = {0:f}'.format(acc))"
   ]
  },
  {
   "cell_type": "code",
   "execution_count": null,
   "metadata": {},
   "outputs": [],
   "source": [
    "from sklearn.metrics import confusion_matrix\n",
    "C = confusion_matrix(yts,yhat)\n",
    "\n",
    "# Normalize the confusion matrix\n",
    "Csum = np.sum(C,1)\n",
    "C = C / Csum[None,:]\n",
    "\n",
    "# Print the confusion matrix\n",
    "print(np.array_str(C, precision=3, suppress_small=True))"
   ]
  },
  {
   "cell_type": "code",
   "execution_count": null,
   "metadata": {},
   "outputs": [],
   "source": [
    "Ierr = np.where((yts != 10) & (yhat == 10))[0]\n",
    "nplt = 4\n",
    "try:\n",
    "    plt.figure(figsize=(10, 4))\n",
    "    for i in range(nplt):        \n",
    "        plt.subplot(1,nplt,i+1)        \n",
    "        ind = Ierr[i]    \n",
    "        plt_digit(Xts[ind,:])        \n",
    "        title = 'true={0:d} est={1:d}'.format(yts[ind].astype(int), yhat[ind].astype(int))\n",
    "        plt.title(title)\n",
    "except:\n",
    "    print \"No error found\""
   ]
  },
  {
   "cell_type": "code",
   "execution_count": null,
   "metadata": {},
   "outputs": [],
   "source": [
    "Ierr = np.where((yts == 10) & (yhat != 10))[0]\n",
    "nplt = 4\n",
    "try:\n",
    "    plt.figure(figsize=(10, 4))\n",
    "    for i in range(nplt):        \n",
    "        plt.subplot(1,nplt,i+1)        \n",
    "        ind = Ierr[i]    \n",
    "        plt_digit(Xts[ind,:])        \n",
    "        title = 'true={0:d} est={1:d}'.format(yts[ind].astype(int), yhat[ind].astype(int))\n",
    "        plt.title(title)\n",
    "except:\n",
    "    print \"No error found\""
   ]
  },
  {
   "cell_type": "code",
   "execution_count": null,
   "metadata": {},
   "outputs": [],
   "source": [
    "Ierr = np.where((yts < 10) & (yhat < 10) & (yts != yhat))[0]\n",
    "nplt = 4\n",
    "try:\n",
    "    plt.figure(figsize=(10, 4))\n",
    "    for i in range(nplt):        \n",
    "        plt.subplot(1,nplt,i+1)        \n",
    "        ind = Ierr[i]    \n",
    "        plt_digit(Xts[ind,:])        \n",
    "        title = 'true={0:d} est={1:d}'.format(yts[ind].astype(int), yhat[ind].astype(int))\n",
    "        plt.title(title)\n",
    "except:\n",
    "    print \"No error found\""
   ]
  }
 ],
 "metadata": {
  "kernelspec": {
   "display_name": "Python 3",
   "language": "python",
   "name": "python3"
  },
  "language_info": {
   "codemirror_mode": {
    "name": "ipython",
    "version": 3
   },
   "file_extension": ".py",
   "mimetype": "text/x-python",
   "name": "python",
   "nbconvert_exporter": "python",
   "pygments_lexer": "ipython3",
   "version": "3.6.3"
  }
 },
 "nbformat": 4,
 "nbformat_minor": 2
}

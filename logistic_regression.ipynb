{
 "cells": [
  {
   "cell_type": "code",
   "execution_count": 1,
   "metadata": {
    "collapsed": true
   },
   "outputs": [],
   "source": [
    "import numpy as np\n",
    "import matplotlib\n",
    "import matplotlib.pyplot as plt\n",
    "from sklearn import datasets, linear_model, preprocessing\n",
    "%matplotlib inline"
   ]
  },
  {
   "cell_type": "code",
   "execution_count": 2,
   "metadata": {
    "collapsed": false
   },
   "outputs": [
    {
     "name": "stdout",
     "output_type": "stream",
     "text": [
      "['handPos', 'spikes', 'timeBase', 'Publication', 'handVel', '__header__', '__globals__', 'startBins', 'startBinned', 'time', '__version__', 'targets', 'target']\n"
     ]
    }
   ],
   "source": [
    "import scipy.io\n",
    "mat_dict = scipy.io.loadmat('StevensonV2.mat')\n",
    "print mat_dict.keys()"
   ]
  },
  {
   "cell_type": "code",
   "execution_count": 3,
   "metadata": {
    "collapsed": false
   },
   "outputs": [
    {
     "name": "stdout",
     "output_type": "stream",
     "text": [
      "nt: 15536, nnueron: 196\n"
     ]
    }
   ],
   "source": [
    "X0 = mat_dict['spikes'].T\n",
    "y0 = mat_dict['handVel'][0,:]\n",
    "print \"nt: %i, nnueron: %i\"%(X0.shape)"
   ]
  },
  {
   "cell_type": "code",
   "execution_count": 4,
   "metadata": {
    "collapsed": false
   },
   "outputs": [
    {
     "name": "stdout",
     "output_type": "stream",
     "text": [
      "776.75\n"
     ]
    }
   ],
   "source": [
    "time = mat_dict['time'][0,:]\n",
    "tsamp = []\n",
    "for val in range(0,len(time)-1):\n",
    "    tsamp.append(time[val+1] - time[val])\n",
    "ttotal = time[len(time)-1] - time[0]\n",
    "print ttotal"
   ]
  },
  {
   "cell_type": "code",
   "execution_count": 7,
   "metadata": {
    "collapsed": false
   },
   "outputs": [],
   "source": [
    "trsamps = len(X0) // 2\n",
    "tesamps = len(X0) - trsamps\n",
    "Xtr = X0[0:trsamps]\n",
    "ytr = y0[0:trsamps]\n",
    "Xts = X0[tesamps:len(X0)]\n",
    "yts = y0[tesamps:len(X0)]"
   ]
  },
  {
   "cell_type": "code",
   "execution_count": 1,
   "metadata": {
    "collapsed": false
   },
   "outputs": [
    {
     "ename": "TypeError",
     "evalue": "__init__() got an unexpected keyword argument 'C'",
     "output_type": "error",
     "traceback": [
      "\u001b[1;31m---------------------------------------------------------------------------\u001b[0m",
      "\u001b[1;31mTypeError\u001b[0m                                 Traceback (most recent call last)",
      "\u001b[1;32m<ipython-input-1-b36359b4b027>\u001b[0m in \u001b[0;36m<module>\u001b[1;34m()\u001b[0m\n\u001b[0;32m      1\u001b[0m \u001b[1;32mfrom\u001b[0m \u001b[0msklearn\u001b[0m \u001b[1;32mimport\u001b[0m \u001b[0mlinear_model\u001b[0m\u001b[1;33m\u001b[0m\u001b[0m\n\u001b[0;32m      2\u001b[0m \u001b[1;33m\u001b[0m\u001b[0m\n\u001b[1;32m----> 3\u001b[1;33m \u001b[0mlinmod\u001b[0m \u001b[1;33m=\u001b[0m \u001b[0mlinear_model\u001b[0m\u001b[1;33m.\u001b[0m\u001b[0mLinearRegression\u001b[0m\u001b[1;33m(\u001b[0m\u001b[0mC\u001b[0m\u001b[1;33m=\u001b[0m\u001b[1;36m1e5\u001b[0m\u001b[1;33m)\u001b[0m\u001b[1;33m\u001b[0m\u001b[0m\n\u001b[0m\u001b[0;32m      4\u001b[0m \u001b[0mlinmod\u001b[0m\u001b[1;33m.\u001b[0m\u001b[0mfit\u001b[0m\u001b[1;33m(\u001b[0m\u001b[0mX0\u001b[0m\u001b[1;33m,\u001b[0m\u001b[0my0\u001b[0m\u001b[1;33m)\u001b[0m\u001b[1;33m\u001b[0m\u001b[0m\n\u001b[0;32m      5\u001b[0m \u001b[0mytr_pred\u001b[0m \u001b[1;33m=\u001b[0m \u001b[0mlinmod\u001b[0m\u001b[1;33m.\u001b[0m\u001b[0mpredict\u001b[0m\u001b[1;33m(\u001b[0m\u001b[0mX0\u001b[0m\u001b[1;33m)\u001b[0m\u001b[1;33m\u001b[0m\u001b[0m\n",
      "\u001b[1;31mTypeError\u001b[0m: __init__() got an unexpected keyword argument 'C'"
     ]
    }
   ],
   "source": [
    "from sklearn import linear_model\n",
    "\n",
    "linmod = linear_model.LinearRegression()\n",
    "linmod.fit(X0,y0)\n",
    "ytr_pred = linmod.predict(X0)\n",
    "RSS_tr = np.mean((ytr_pred-y0)**2)/(np.std(y0)**2)\n",
    "print RSS_tr"
   ]
  },
  {
   "cell_type": "code",
   "execution_count": 9,
   "metadata": {
    "collapsed": false,
    "scrolled": true
   },
   "outputs": [
    {
     "name": "stderr",
     "output_type": "stream",
     "text": [
      "C:\\Users\\nadjatee\\Anaconda2\\lib\\site-packages\\ipykernel\\__main__.py:5: RuntimeWarning: divide by zero encountered in divide\n"
     ]
    },
    {
     "data": {
      "text/plain": [
       "<Container object of 3 artists>"
      ]
     },
     "execution_count": 9,
     "metadata": {},
     "output_type": "execute_result"
    },
    {
     "data": {
      "image/png": "[encoded data removed]",
      "text/plain": [
       "<matplotlib.figure.Figure at 0x968f908>"
      ]
     },
     "metadata": {},
     "output_type": "display_data"
    }
   ],
   "source": [
    "Rsq = []\n",
    "Xm = np.mean(X0,axis=1)\n",
    "yrsq = y0 - np.mean(y0,axis=0)\n",
    "for row in X0.T:\n",
    "    Rsq.append(np.mean(((row - Xm) * yrsq)/(np.std(row * y0))**2))\n",
    "plt.stem(Rsq)\n"
   ]
  },
  {
   "cell_type": "code",
   "execution_count": 10,
   "metadata": {
    "collapsed": false
   },
   "outputs": [
    {
     "name": "stdout",
     "output_type": "stream",
     "text": [
      "The neurons with the ten highest R^2 values = [ 61 158 136 186  30 114  29 121  59]\n"
     ]
    }
   ],
   "source": [
    "d = 100\n",
    "Isel = np.argsort(Rsq)[len(Rsq)-d-1:len(Rsq)-1]\n",
    "print \"The neurons with the ten highest R^2 values =\", np.array_str(Isel[0:9])\n"
   ]
  },
  {
   "cell_type": "code",
   "execution_count": 72,
   "metadata": {
    "collapsed": false
   },
   "outputs": [
    {
     "name": "stdout",
     "output_type": "stream",
     "text": [
      "0.714126931041\n"
     ]
    }
   ],
   "source": [
    "linmod.fit(X0[:,Isel],y0)\n",
    "ytr_pred = linmod.predict(X0[:,Isel])\n",
    "RSS_tr = np.mean((ytr_pred-y0)**2)/(np.std(y0)**2)\n",
    "print RSS_tr"
   ]
  },
  {
   "cell_type": "code",
   "execution_count": 15,
   "metadata": {
    "collapsed": false
   },
   "outputs": [
    {
     "data": {
      "text/plain": [
       "[<matplotlib.lines.Line2D at 0x31f3ff28>]"
      ]
     },
     "execution_count": 15,
     "metadata": {},
     "output_type": "execute_result"
    },
    {
     "data": {
      "image/png": "[encoded data removed]",
      "text/plain": [
       "<matplotlib.figure.Figure at 0x31f3fb38>"
      ]
     },
     "metadata": {},
     "output_type": "display_data"
    }
   ],
   "source": [
    "plt.scatter(ytr_pred, y0)\n",
    "ymin = np.min(y0)\n",
    "ymax = np.max(y0)\n",
    "plt.plot([ymin,ymax], [ymin,ymax], 'r-', linewidth=3)"
   ]
  },
  {
   "cell_type": "code",
   "execution_count": null,
   "metadata": {
    "collapsed": false
   },
   "outputs": [],
   "source": [
    "import  sklearn.model_selection \n",
    "\n",
    "# Create a k-fold object\n",
    "nfold = 10\n",
    "kf = sklearn.model_selection.KFold(n_splits=nfold,shuffle=True)\n",
    "\n",
    "# Model orders to be tested\n",
    "dtest = np.arange(10,200,10)\n",
    "nd = len(dtest)\n",
    "\n",
    "Isel = np.argsort(Rsq)\n",
    "RSSts = np.zeros((nd,nfold))\n",
    "#looping over the folds\n",
    "for isplit, Ind in enumerate(kf.split(X0)):\n",
    "\n",
    "    Itr,Its = Ind\n",
    "\n",
    "    for it,d in enumerate(dtest):\n",
    "\n",
    "        I = np.array(Isel[d:])\n",
    "\n",
    "        xtr= X0[:,I][Itr,:]\n",
    "        ytr= y0[Itr]\n",
    "        xts= X0[:,I][Its,:]\n",
    "        yts= y0[Its]\n",
    "\n",
    "\n",
    "        linmod.fit(xtr,ytr)\n",
    "        yts_hat = linmod.predict(xts)\n",
    "\n",
    "        RSSts[it,isplit] = np.mean((yts_hat-yts)**2)\n",
    "        \n",
    "RSS_mean = np.mean(RSSts,axis=1)\n",
    "RSS_std = np.std(RSSts,axis=1)/ np.sqrt(nfold-1)\n",
    "plt.errorbar(dtest,RSS_mean,yerr=RSS_std,fmt='-')\n",
    "plt.xlabel(\"Model order\")\n",
    "plt.ylabel(\"Test RSS\")\n",
    "plt.grid()"
   ]
  },
  {
   "cell_type": "code",
   "execution_count": null,
   "metadata": {
    "collapsed": true
   },
   "outputs": [],
   "source": []
  },
  {
   "cell_type": "code",
   "execution_count": null,
   "metadata": {
    "collapsed": true
   },
   "outputs": [],
   "source": []
  }
 ],
 "metadata": {
  "kernelspec": {
   "display_name": "Python 2",
   "language": "python",
   "name": "python2"
  },
  "language_info": {
   "codemirror_mode": {
    "name": "ipython",
    "version": 2
   },
   "file_extension": ".py",
   "mimetype": "text/x-python",
   "name": "python",
   "nbconvert_exporter": "python",
   "pygments_lexer": "ipython2",
   "version": "2.7.12"
  }
 },
 "nbformat": 4,
 "nbformat_minor": 0
}

{
 "cells": [
  {
   "cell_type": "code",
   "execution_count": 13,
   "metadata": {
    "collapsed": false
   },
   "outputs": [],
   "source": [
    "import flickrapi\n",
    "import urllib3.request\n",
    "import matplotlib.pyplot as plt\n",
    "import numpy as np\n",
    "import skimage.transform\n",
    "import skimage.io\n",
    "import requests\n",
    "from io import BytesIO\n",
    "%matplotlib inline"
   ]
  },
  {
   "cell_type": "code",
   "execution_count": 9,
   "metadata": {
    "collapsed": true
   },
   "outputs": [],
   "source": [
    "api_key = u'cc85ba824c7105a3e6b22d5cb6426b76'\n",
    "api_secret = u'e45b4d71e4f034bc'\n",
    "flickr = flickrapi.FlickrAPI(api_key, api_secret)"
   ]
  },
  {
   "cell_type": "code",
   "execution_count": 27,
   "metadata": {
    "collapsed": false
   },
   "outputs": [
    {
     "name": "stdout",
     "output_type": "stream",
     "text": [
      "Making directory train/bicycle\n"
     ]
    }
   ],
   "source": [
    "keyword = 'bicycle'\n",
    "dir_name = 'train/bicycle'\n",
    "photos = flickr.walk(text=keyword, tag_mode='all', tags=keyword,extras='url_c',\\\n",
    "                     sort='relevance',per_page=100)\n",
    "\n",
    "import os\n",
    "dir_exists = os.path.isdir(dir_name)\n",
    "if not dir_exists:\n",
    "    os.mkdir(dir_name)\n",
    "    print(\"Making directory %s\" % dir_name)\n",
    "else:\n",
    "    print(\"Will store images in directory %s\" % dir_name)"
   ]
  },
  {
   "cell_type": "code",
   "execution_count": 11,
   "metadata": {
    "collapsed": true
   },
   "outputs": [],
   "source": [
    "# Display the image\n",
    "def disp_image(im):\n",
    "    if (len(im.shape) == 2):\n",
    "        # Gray scale image\n",
    "        plt.imshow(im, cmap='gray')    \n",
    "    else:\n",
    "        # Color image.  \n",
    "        im1 = (im-np.min(im))/(np.max(im)-np.min(im))*255\n",
    "        im1 = im1.astype(np.uint8)\n",
    "        plt.imshow(im1)    \n",
    "        \n",
    "    # Remove axis ticks\n",
    "    plt.xticks([])\n",
    "    plt.yticks([])"
   ]
  },
  {
   "cell_type": "code",
   "execution_count": 28,
   "metadata": {
    "collapsed": false
   },
   "outputs": [],
   "source": [
    "import warnings\n",
    "    \n",
    "nimage = 1000\n",
    "i = 0\n",
    "nrow = 100\n",
    "ncol = 100\n",
    "for photo in photos:\n",
    "    url=photo.get('url_c')\n",
    "    if not (url is None):\n",
    "        \n",
    "        # Create a file from the URL\n",
    "        # This may only work in Python3\n",
    "        response = requests.get(url)\n",
    "        file = BytesIO(response.content)\n",
    "        \n",
    "        # Read image from file\n",
    "        im = skimage.io.imread(file)\n",
    "        \n",
    "        # Resize images\n",
    "        im1 = skimage.transform.resize(im,(nrow,ncol),mode='constant')\n",
    "                \n",
    "        # Convert to uint8, suppress the warning about the precision loss\n",
    "        with warnings.catch_warnings():\n",
    "            warnings.simplefilter(\"ignore\")\n",
    "            im2 = skimage.img_as_ubyte(im1)\n",
    "    \n",
    "        # Save the image\n",
    "        local_name = '{0:s}/{1:s}_{2:04d}.jpg'.format(dir_name,keyword, i)  \n",
    "        skimage.io.imsave(local_name, im2)      \n",
    "        i = i + 1        \n",
    "    if (i >= nimage):        \n",
    "        break"
   ]
  }
 ],
 "metadata": {
  "kernelspec": {
   "display_name": "Python 2",
   "language": "python",
   "name": "python2"
  },
  "language_info": {
   "codemirror_mode": {
    "name": "ipython",
    "version": 2
   },
   "file_extension": ".py",
   "mimetype": "text/x-python",
   "name": "python",
   "nbconvert_exporter": "python",
   "pygments_lexer": "ipython2",
   "version": "2.7.12"
  }
 },
 "nbformat": 4,
 "nbformat_minor": 2
}

{
 "cells": [
  {
   "cell_type": "code",
   "execution_count": 1,
   "metadata": {
    "collapsed": false
   },
   "outputs": [
    {
     "name": "stdout",
     "output_type": "stream",
     "text": [
      "         DYRK1A_N   ITSN1_N    BDNF_N     NR1_N    NR2A_N    pAKT_N   pBRAF_N  \\\n",
      "MouseID                                                                         \n",
      "309_1    0.503644  0.747193  0.430175  2.816329  5.990152  0.218830  0.177565   \n",
      "309_2    0.514617  0.689064  0.411770  2.789514  5.685038  0.211636  0.172817   \n",
      "309_3    0.509183  0.730247  0.418309  2.687201  5.622059  0.209011  0.175722   \n",
      "309_4    0.442107  0.617076  0.358626  2.466947  4.979503  0.222886  0.176463   \n",
      "309_5    0.434940  0.617430  0.358802  2.365785  4.718679  0.213106  0.173627   \n",
      "309_6    0.447506  0.628176  0.367388  2.385939  4.807635  0.218578  0.176233   \n",
      "\n",
      "         pCAMKII_N   pCREB_N    pELK_N   ...     pCFOS_N     SYP_N  H3AcK18_N  \\\n",
      "MouseID                                  ...                                    \n",
      "309_1     2.373744  0.232224  1.750936   ...    0.108336  0.427099   0.114783   \n",
      "309_2     2.292150  0.226972  1.596377   ...    0.104315  0.441581   0.111974   \n",
      "309_3     2.283337  0.230247  1.561316   ...    0.106219  0.435777   0.111883   \n",
      "309_4     2.152301  0.207004  1.595086   ...    0.111262  0.391691   0.130405   \n",
      "309_5     2.134014  0.192158  1.504230   ...    0.110694  0.434154   0.118481   \n",
      "309_6     2.141282  0.195188  1.442398   ...    0.109446  0.439833   0.116657   \n",
      "\n",
      "           EGR1_N  H3MeK4_N    CaNA_N  Genotype  Treatment  Behavior   class  \n",
      "MouseID                                                                       \n",
      "309_1    0.131790  0.128186  1.675652   Control  Memantine       C/S  c-CS-m  \n",
      "309_2    0.135103  0.131119  1.743610   Control  Memantine       C/S  c-CS-m  \n",
      "309_3    0.133362  0.127431  1.926427   Control  Memantine       C/S  c-CS-m  \n",
      "309_4    0.147444  0.146901  1.700563   Control  Memantine       C/S  c-CS-m  \n",
      "309_5    0.140314  0.148380  1.839730   Control  Memantine       C/S  c-CS-m  \n",
      "309_6    0.140766  0.142180  1.816389   Control  Memantine       C/S  c-CS-m  \n",
      "\n",
      "[6 rows x 81 columns]\n"
     ]
    }
   ],
   "source": [
    "import numpy as np\n",
    "import matplotlib\n",
    "import matplotlib.pyplot as plt\n",
    "import pandas as pd\n",
    "from sklearn import datasets, linear_model, preprocessing\n",
    "%matplotlib inline\n",
    "\n",
    "df = pd.read_excel(\"https://archive.ics.uci.edu/ml/machine-learning-databases/00342/Data_Cortex_Nuclear.xls\", index_col=0)\n",
    "print df.head(6)"
   ]
  },
  {
   "cell_type": "code",
   "execution_count": 2,
   "metadata": {
    "collapsed": false
   },
   "outputs": [],
   "source": [
    "df1 = df.fillna(df.mean())\n",
    "y = np.unique(np.array(df1['Genotype']), return_inverse=True)[1]"
   ]
  },
  {
   "cell_type": "code",
   "execution_count": 3,
   "metadata": {
    "collapsed": false
   },
   "outputs": [],
   "source": [
    "Xs = preprocessing.scale(df1[df1.columns[:-4]])"
   ]
  },
  {
   "cell_type": "code",
   "execution_count": 4,
   "metadata": {
    "collapsed": false
   },
   "outputs": [
    {
     "data": {
      "text/plain": [
       "LogisticRegression(C=1.0, class_weight=None, dual=False, fit_intercept=True,\n",
       "          intercept_scaling=1, max_iter=100, multi_class='ovr', n_jobs=1,\n",
       "          penalty='l2', random_state=None, solver='liblinear', tol=0.0001,\n",
       "          verbose=0, warm_start=False)"
      ]
     },
     "execution_count": 4,
     "metadata": {},
     "output_type": "execute_result"
    }
   ],
   "source": [
    "logreg = linear_model.LogisticRegression()\n",
    "logreg.fit(Xs,y)"
   ]
  },
  {
   "cell_type": "code",
   "execution_count": 5,
   "metadata": {
    "collapsed": false
   },
   "outputs": [
    {
     "name": "stdout",
     "output_type": "stream",
     "text": [
      "Accuracy on training data = 0.985185\n"
     ]
    }
   ],
   "source": [
    "yhat = logreg.predict(Xs)\n",
    "acc = np.mean(yhat == y)\n",
    "print(\"Accuracy on training data = %f\" % acc)"
   ]
  },
  {
   "cell_type": "code",
   "execution_count": 6,
   "metadata": {
    "collapsed": false
   },
   "outputs": [
    {
     "name": "stdout",
     "output_type": "stream",
     "text": [
      "    ITSN1_N     APP_N   TIAM1_N    TRKA_N    NUMB_N    CaNA_N    SOD1_N  \\\n",
      "0  3.088867  3.009307  2.072864  1.912327  1.005747  0.990545  0.904381   \n",
      "\n",
      "    DSCR1_N   PKCA_N   pNR2B_N    ...      pNR1_N  pPKCAB_N    pRSK_N  \\\n",
      "0  0.894651  0.88913  0.882376    ...    -1.03287 -1.041956 -1.046966   \n",
      "\n",
      "   CAMKII_N   AMPKA_N    MTOR_N     SYP_N    BRAF_N    ELK_N     ERK_N  \n",
      "0 -1.083391 -1.127437 -1.177626 -1.254255 -1.539052 -1.88437 -2.661209  \n",
      "\n",
      "[1 rows x 77 columns]\n"
     ]
    },
    {
     "data": {
      "text/plain": [
       "<Container object of 3 artists>"
      ]
     },
     "execution_count": 6,
     "metadata": {},
     "output_type": "execute_result"
    },
    {
     "data": {
      "image/png": "[encoded data removed]",
      "text/plain": [
       "<matplotlib.figure.Figure at 0xd2f74e0>"
      ]
     },
     "metadata": {},
     "output_type": "display_data"
    }
   ],
   "source": [
    "weights = pd.DataFrame(columns = df1.columns[:-4].values)\n",
    "weights.loc[0] = logreg.coef_[0]\n",
    "print weights.sort_values(by=0, axis=1, ascending=False)\n",
    "#ITSN1_N and APP_N has the highest magnitudes with 3.088867 and 3.009307 respectively.\n",
    "plt.stem(weights.loc[0])"
   ]
  },
  {
   "cell_type": "code",
   "execution_count": 7,
   "metadata": {
    "collapsed": false
   },
   "outputs": [
    {
     "name": "stderr",
     "output_type": "stream",
     "text": [
      "C:\\Users\\nadjatee\\Anaconda2\\lib\\site-packages\\sklearn\\metrics\\classification.py:1115: UndefinedMetricWarning: Recall and F-score are ill-defined and being set to 0.0 due to no true samples.\n",
      "  'recall', 'true', average, warn_for)\n"
     ]
    },
    {
     "name": "stdout",
     "output_type": "stream",
     "text": [
      "Precision = 0.4725, SE=0.1596\n",
      "Recall =    0.1307, SE=0.0466\n",
      "f1 =        0.1997, SE=0.0688\n"
     ]
    }
   ],
   "source": [
    "from sklearn.model_selection import KFold\n",
    "from sklearn.metrics import precision_recall_fscore_support\n",
    "from sklearn.utils import shuffle\n",
    "nfold = 10\n",
    "kf = KFold(n_splits=nfold)\n",
    "prec = []\n",
    "rec = []\n",
    "f1 = []\n",
    "for train, test in kf.split(Xs):  \n",
    "    # Get training and test data\n",
    "    Xtr = Xs[train,:]\n",
    "    ytr = y[train]\n",
    "    Xts = Xs[test,:]\n",
    "    yts = y[test]\n",
    "\n",
    "    # Fit a model\n",
    "    logreg.fit(Xtr, ytr)\n",
    "    yhat = logreg.predict(Xts)\n",
    "\n",
    "    # Measure performance\n",
    "    preci,reci,f1i,_= precision_recall_fscore_support(yts,yhat,average=\"binary\") \n",
    "    prec.append(preci)\n",
    "    rec.append(reci)\n",
    "    f1.append(f1i)\n",
    "    Xs= shuffle(Xs,random_state=0)\n",
    "\n",
    "# Take average values of the metrics\n",
    "precm = np.mean(prec)\n",
    "recm = np.mean(rec)\n",
    "f1m = np.mean(f1)\n",
    "\n",
    "# Compute the standard errors\n",
    "prec_se = np.std(prec)/np.sqrt(nfold-1)\n",
    "rec_se = np.std(rec)/np.sqrt(nfold-1)\n",
    "f1_se = np.std(f1)/np.sqrt(nfold-1)\n",
    "\n",
    "print('Precision = {0:.4f}, SE={1:.4f}'.format(precm,prec_se))\n",
    "print('Recall =    {0:.4f}, SE={1:.4f}'.format(recm, rec_se))\n",
    "print('f1 =        {0:.4f}, SE={1:.4f}'.format(f1m, f1_se))"
   ]
  },
  {
   "cell_type": "code",
   "execution_count": 8,
   "metadata": {
    "collapsed": false
   },
   "outputs": [],
   "source": [
    "y = np.unique(np.array(df1['class']), return_inverse=True)[1]"
   ]
  },
  {
   "cell_type": "code",
   "execution_count": 9,
   "metadata": {
    "collapsed": false,
    "scrolled": true
   },
   "outputs": [
    {
     "data": {
      "text/plain": [
       "LogisticRegression(C=100000.0, class_weight='balanced', dual=False,\n",
       "          fit_intercept=True, intercept_scaling=1, max_iter=100,\n",
       "          multi_class='ovr', n_jobs=1, penalty='l2', random_state=None,\n",
       "          solver='liblinear', tol=0.0001, verbose=0, warm_start=False)"
      ]
     },
     "execution_count": 9,
     "metadata": {},
     "output_type": "execute_result"
    }
   ],
   "source": [
    "logreg = linear_model.LogisticRegression(C=1e5,class_weight=\"balanced\")\n",
    "logreg.fit(Xs,y)"
   ]
  },
  {
   "cell_type": "code",
   "execution_count": 10,
   "metadata": {
    "collapsed": false
   },
   "outputs": [
    {
     "name": "stdout",
     "output_type": "stream",
     "text": [
      "Accuracy on training data = 0.312963\n"
     ]
    }
   ],
   "source": [
    "yhat = logreg.predict(Xs)\n",
    "acc = np.mean(yhat == y)\n",
    "print(\"Accuracy on training data = %f\" % acc)"
   ]
  },
  {
   "cell_type": "code",
   "execution_count": 11,
   "metadata": {
    "collapsed": false
   },
   "outputs": [
    {
     "name": "stderr",
     "output_type": "stream",
     "text": [
      "C:\\Users\\nadjatee\\Anaconda2\\lib\\site-packages\\sklearn\\metrics\\classification.py:1115: UndefinedMetricWarning: Recall and F-score are ill-defined and being set to 0.0 in labels with no true samples.\n",
      "  'recall', 'true', average, warn_for)\n"
     ]
    },
    {
     "name": "stdout",
     "output_type": "stream",
     "text": [
      "Precision = 0.1216, SE=0.0933\n",
      "Recall =    0.0223, SE=0.0161\n",
      "f1 =        nan, SE=nan\n",
      "ConfusionM= 16.8750, SE=1.6378\n",
      "[[-0.1419  1.525  -0.7597  1.4377  1.4611 -0.3173 -0.7586  0.4615]\n",
      " [ 2.1284  0.     -0.5346 -0.5154 -1.2216  2.0256  0.8597 -1.0769]\n",
      " [-0.5203 -0.915   0.1407  0.1356  0.8862 -0.3173  0.8597  2.    ]\n",
      " [-0.1419  0.      0.3658 -1.3834  0.3114 -0.3173  0.0506  0.7692]\n",
      " [-0.1419  0.915  -0.9848 -0.2984  0.1198 -0.122   1.6689 -0.1538]\n",
      " [ 0.6149 -1.525  -0.0844 -0.9494 -0.6467 -1.4887 -1.5677 -1.0769]\n",
      " [-1.6554 -0.915  -0.5346  1.6547  0.6946  1.0494 -0.354  -0.9231]\n",
      " [-0.1419  0.915   2.3918 -0.0814 -1.6048 -0.5125 -0.7586  0.    ]]\n"
     ]
    },
    {
     "name": "stderr",
     "output_type": "stream",
     "text": [
      "C:\\Users\\nadjatee\\Anaconda2\\lib\\site-packages\\numpy\\core\\_methods.py:59: RuntimeWarning: Mean of empty slice.\n",
      "  warnings.warn(\"Mean of empty slice.\", RuntimeWarning)\n",
      "C:\\Users\\nadjatee\\Anaconda2\\lib\\site-packages\\numpy\\core\\_methods.py:70: RuntimeWarning: invalid value encountered in double_scalars\n",
      "  ret = ret.dtype.type(ret / rcount)\n",
      "C:\\Users\\nadjatee\\Anaconda2\\lib\\site-packages\\numpy\\core\\_methods.py:82: RuntimeWarning: Degrees of freedom <= 0 for slice\n",
      "  warnings.warn(\"Degrees of freedom <= 0 for slice\", RuntimeWarning)\n",
      "C:\\Users\\nadjatee\\Anaconda2\\lib\\site-packages\\numpy\\core\\_methods.py:94: RuntimeWarning: invalid value encountered in true_divide\n",
      "  arrmean, rcount, out=arrmean, casting='unsafe', subok=False)\n",
      "C:\\Users\\nadjatee\\Anaconda2\\lib\\site-packages\\numpy\\core\\_methods.py:116: RuntimeWarning: invalid value encountered in double_scalars\n",
      "  ret = ret.dtype.type(ret / rcount)\n"
     ]
    }
   ],
   "source": [
    "from sklearn.metrics import confusion_matrix\n",
    "from operator import add\n",
    "nfold = 10\n",
    "kf = KFold(n_splits=nfold)\n",
    "prec = []\n",
    "rec = []\n",
    "f1 = []\n",
    "conf = np.zeros((8,8))\n",
    "for train, test in kf.split(Xs):  \n",
    "    # Get training and test data\n",
    "    Xtr = Xs[train,:]\n",
    "    ytr = y[train]\n",
    "    Xts = Xs[test,:]\n",
    "    yts = y[test]\n",
    "\n",
    "    # Fit a model\n",
    "    logreg.fit(Xtr, ytr)\n",
    "    yhat = logreg.predict(Xts)\n",
    "\n",
    "    # Measure performance\n",
    "    preci,reci,f1i,_= precision_recall_fscore_support(yts,yhat) \n",
    "    try:\n",
    "        conf =  map(add, conf, confusion_matrix(yts, yhat))\n",
    "    except:\n",
    "        pass\n",
    "    prec.append(preci)\n",
    "    rec.append(reci)\n",
    "    Xs= shuffle(Xs,random_state=0)\n",
    "# Take average values of the metrics\n",
    "precm = np.mean(prec)\n",
    "recm = np.mean(rec)\n",
    "f1m = np.mean(f1)\n",
    "confm = np.mean(conf)\n",
    "\n",
    "# Compute the standard errors\n",
    "prec_se = np.std(prec)/np.sqrt(nfold-1)\n",
    "rec_se = np.std(rec)/np.sqrt(nfold-1)\n",
    "f1_se = np.std(f1)/np.sqrt(nfold-1)\n",
    "conf_se = np.std(conf)/np.sqrt(nfold-1)\n",
    "\n",
    "print('Precision = {0:.4f}, SE={1:.4f}'.format(precm,prec_se))\n",
    "print('Recall =    {0:.4f}, SE={1:.4f}'.format(recm, rec_se))\n",
    "print('f1 =        {0:.4f}, SE={1:.4f}'.format(f1m, f1_se))\n",
    "print('ConfusionM= {0:.4f}, SE={1:.4f}'.format(confm, conf_se))\n",
    "conf = preprocessing.scale(conf)\n",
    "print(np.array_str(conf, precision=4, suppress_small=True))"
   ]
  },
  {
   "cell_type": "code",
   "execution_count": 12,
   "metadata": {
    "collapsed": false
   },
   "outputs": [
    {
     "name": "stdout",
     "output_type": "stream",
     "text": [
      "[-0.5264 -2.1231 -0.1963 -0.467  -0.3325  0.0628 -0.2466 -0.0717  0.0946\n",
      "  0.1215  0.111  -0.1026  0.107   0.3793  0.1573  0.3047  0.0919  0.4391\n",
      " -0.2467  0.0926  1.4434  0.2179 -0.4705 -0.0683 -0.6571  0.647  -0.0583\n",
      "  0.4185  0.0294 -0.1234  0.3223  0.3047  0.1545 -0.4873 -0.0311 -0.3579\n",
      "  0.1523  0.2365 -0.1441  0.3069 -0.3916  0.3259  0.0295  0.5143 -0.0179\n",
      "  0.2539 -0.2818 -0.14   -0.234   0.283  -0.2585 -0.0771 -0.2706 -0.0716\n",
      " -0.2363  0.3482  0.3005 -0.1286  0.0949 -0.018   0.5576 -0.0687 -0.4897\n",
      " -0.1594 -0.0362  0.0778  0.3239 -0.2136 -0.3091 -0.0159 -0.0716  0.0848\n",
      "  0.1734 -0.0011 -0.0001  0.2616 -0.3139]\n",
      "[ 0.1651  0.6714  0.0811 -1.3536 -0.2419 -0.0279  0.0661  0.2903  0.527\n",
      "  0.2449  0.0064  0.4383 -0.1043 -0.2656  0.5478 -0.6322  1.4263  0.1589\n",
      " -0.0202  0.271  -0.8772 -0.0444  0.0623 -1.2251  0.1397  0.1322 -0.0553\n",
      " -0.0794 -1.5093  0.2412 -0.0417  0.8984  0.0501  0.0616  0.3341 -0.1641\n",
      " -0.5516  0.9444  0.2825 -0.2541 -0.3257 -0.0045 -0.0753 -0.2353 -0.3236\n",
      " -0.7134  0.1858  0.2229  0.5055  0.0173  0.0436  0.0897 -0.0248 -0.025\n",
      " -0.0906 -0.0436 -0.0019  0.5992 -0.5154  0.0512 -0.0373  0.0739  0.491\n",
      "  0.3392 -0.5129  0.0264 -0.0208 -0.236   0.0106  0.1825 -0.025   0.3911\n",
      "  0.0709 -0.2231 -0.0694 -0.1408  0.6841]\n",
      "[ 0.949  -0.535   0.7146  0.9106 -1.0868  0.4202 -0.1734  0.5174  0.1859\n",
      "  0.019   0.8057 -0.0244 -0.3679 -0.677   0.7413  0.2563 -1.0461 -0.0272\n",
      "  0.1068  0.706  -1.3232 -0.8612 -0.0173 -0.1419 -0.4014  0.4168  0.1405\n",
      " -0.6501  0.6468 -0.5273  0.0582 -0.2986 -0.1342 -0.0297 -0.4636  0.3138\n",
      " -0.0447 -0.2956 -0.0085 -0.5818  1.1547 -0.0711 -0.2142 -0.408   0.2145\n",
      "  0.46   -0.2164  0.1935  0.1153  0.0456 -0.0922 -0.2024  0.2232  0.1303\n",
      " -0.0792 -0.2845 -0.1161 -0.1169 -0.4536  0.2341 -0.2738 -0.2545 -0.035\n",
      " -0.0864  0.5012  0.2758 -0.2945  0.3159 -0.0188  0.0007  0.1303 -0.2755\n",
      " -0.1772  0.1579  0.2706  0.122   0.5501]\n",
      "[-0.2935  1.5897  0.4703  1.1135  0.1967  0.2298  0.8373  0.3112 -0.468\n",
      " -0.1221  0.0495 -0.0504 -0.7001  0.2218 -0.4623 -0.1912 -0.3984  1.0993\n",
      " -0.2402 -0.1313 -0.9435  0.1401  0.1495 -0.072   1.0059 -0.2985  0.3358\n",
      " -0.3396 -0.0898 -0.3058 -0.2157 -1.0198  0.3487  0.2599  0.0478 -0.1974\n",
      " -0.2673 -0.9895  0.1901  0.0007  0.3134  0.3797 -0.0512  0.0122  0.1175\n",
      " -0.0109 -0.2786 -0.7905  0.2079 -0.6243  0.1221 -0.1465  0.3903 -0.0395\n",
      "  0.412  -0.0033 -0.2224  0.0928  0.3736 -0.2039 -0.3866  0.1664  0.2633\n",
      "  0.3092 -0.0264 -0.3532 -0.0421 -0.0555 -0.0603  0.0174 -0.0395  0.0328\n",
      "  0.0129  0.1007 -0.0575 -0.2497 -0.596 ]\n",
      "[-0.7156 -0.0441 -0.6839 -0.0835  0.2508  0.1968 -0.3348 -0.2054  0.0317\n",
      " -0.2153 -0.6464  0.1131  0.6897  0.029  -0.4298  0.1925 -0.031  -0.5979\n",
      "  0.0149 -0.0858  1.2326 -0.1498  0.5199  1.2257 -0.6248  0.26    0.0589\n",
      " -0.5465  0.3143 -0.0503  0.0619 -0.0148  0.1775  0.7097 -0.3699 -0.2526\n",
      "  0.3851 -0.1223 -0.1362  0.0699 -0.0178 -0.3308 -0.0698  0.4478 -0.054\n",
      " -0.6328  0.1594 -0.078  -0.1783 -0.1236 -0.3293  0.1968  0.0539  0.1312\n",
      "  0.2396  0.0943 -0.0884  0.2547  0.332  -0.0838 -0.3222 -0.2318 -0.2658\n",
      " -0.4299 -0.248   0.1421  0.3426 -0.0602 -0.0213 -0.0019  0.1312 -0.0551\n",
      "  0.0944  0.0156 -0.0993  0.1818  0.3948]\n",
      "[-0.7858  1.1855 -0.6011  0.8537  0.6242 -0.2836 -0.2027 -0.2826 -0.1046\n",
      " -0.4276  0.8777  0.7249  0.084  -0.4661 -0.0629 -0.5287 -0.0874 -1.0342\n",
      "  0.4062 -0.2855 -0.4518  0.1156  0.3578  0.1853  0.5346 -0.2928 -0.2743\n",
      " -0.1149  0.3667  0.6385  0.1889 -1.0515 -0.2132 -0.5107  0.3937  0.5066\n",
      " -0.5744  0.3204  0.1165  0.097  -0.1106 -0.1067  0.3403 -0.6425  0.0258\n",
      "  0.6565  0.7883  0.3802  0.2247  0.3334 -0.0112 -0.1129  0.2445  0.0282\n",
      "  0.2295 -0.0531 -0.1364 -0.3058  0.0602 -0.0488  0.2988 -0.1892  0.0583\n",
      "  0.1982 -0.007  -0.74   -0.9572  0.5212  0.1399 -0.1457  0.0282  0.1506\n",
      "  0.1286 -0.1118 -0.1616  0.0624 -0.6338]\n",
      "[-0.2293 -0.0729  0.514  -0.0817  0.8098 -1.2698  0.4122 -0.3622 -0.2993\n",
      " -0.1254  0.8316 -0.2887  0.1496  0.9526 -1.1995  0.0562  0.0175 -0.2104\n",
      "  0.3124 -0.1078 -0.1171  0.2062 -0.2109 -0.562   0.1876 -0.8175 -0.3063\n",
      "  0.5658 -0.191  -0.1612 -0.428   1.2174 -0.3435  0.2121  0.0022  0.2026\n",
      "  0.8699 -0.0631  0.0855 -0.0037 -0.7897  0.1944  0.0643 -0.3607  0.0508\n",
      "  0.1959 -0.1116  0.2975 -0.1969 -0.0959  0.1431 -0.2072 -0.2571 -0.0793\n",
      " -0.5335 -0.1412  0.4939 -0.295   0.2068 -0.2288 -0.0384  0.4726  0.3171\n",
      "  0.3915 -0.0674  0.267   0.0994 -0.0191  0.0781 -0.1393 -0.0793 -0.2019\n",
      " -0.1378  0.1658  0.0241 -0.0745 -0.1388]\n",
      "[ 1.429   0.7181 -1.2362 -0.8232  1.2471 -0.3058  0.3753  0.3677 -1.5825\n",
      " -2.2104 -3.0387  0.0781  0.314   0.3432  0.296  -0.7964  0.5466 -0.9112\n",
      "  0.9324 -1.4556  1.3608  1.4372 -0.7023  2.2463 -0.4324 -0.3624  0.9065\n",
      "  0.04   -1.1231  1.6682 -0.5616  0.6713 -3.0769  1.4113  1.5205 -0.0852\n",
      "  3.3237 -0.0238 -0.5627 -3.0521 -0.2383 -1.2822  0.222   2.2437  0.1579\n",
      " -0.1033 -1.4824  1.0386 -0.1995  1.0993 -0.0823 -0.3298 -0.1867 -0.1193\n",
      " -0.0562  0.548   1.0031 -0.5813  0.5524 -0.0898 -0.4768 -0.1634 -0.2466\n",
      " -0.8137  0.8504  0.1046  0.2768 -0.7635  0.4296 -0.177  -0.1193 -0.478\n",
      " -1.4673  0.8953 -0.3543 -1.2329  1.0717]\n"
     ]
    },
    {
     "data": {
      "text/plain": [
       "<Container object of 3 artists>"
      ]
     },
     "execution_count": 12,
     "metadata": {},
     "output_type": "execute_result"
    },
    {
     "data": {
      "image/png": "[encoded data removed]",
      "text/plain": [
       "<matplotlib.figure.Figure at 0xd6cde48>"
      ]
     },
     "metadata": {},
     "output_type": "display_data"
    }
   ],
   "source": [
    "weights = pd.DataFrame(columns = df1.columns[:-4].values, data = logreg.coef_)\n",
    "for index,row in weights.iterrows():\n",
    "    print (np.array_str(row, precision=4, suppress_small=True))\n",
    "plt.stem(weights.loc[0])"
   ]
  }
 ],
 "metadata": {
  "kernelspec": {
   "display_name": "Python 2",
   "language": "python",
   "name": "python2"
  },
  "language_info": {
   "codemirror_mode": {
    "name": "ipython",
    "version": 2
   },
   "file_extension": ".py",
   "mimetype": "text/x-python",
   "name": "python",
   "nbconvert_exporter": "python",
   "pygments_lexer": "ipython2",
   "version": "2.7.12"
  }
 },
 "nbformat": 4,
 "nbformat_minor": 0
}
